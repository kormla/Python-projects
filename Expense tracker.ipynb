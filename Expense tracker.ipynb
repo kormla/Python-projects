{
 "cells": [
  {
   "cell_type": "markdown",
   "id": "0a934eee",
   "metadata": {},
   "source": [
    "# Expense Tracker"
   ]
  },
  {
   "cell_type": "markdown",
   "id": "4284c947",
   "metadata": {},
   "source": [
    "- This program takes inputs from the user and groups them under categories, summing the total amounts per category to inform the user on his/her spending habits."
   ]
  },
  {
   "cell_type": "code",
   "execution_count": 14,
   "id": "dec4628f",
   "metadata": {},
   "outputs": [
    {
     "name": "stdout",
     "output_type": "stream",
     "text": [
      "Enter the amount spent: 40.20\n",
      "Enter the category: food\n",
      "Enter a description: jollof\n",
      "Do you want to add another expense? (yes/no): yes\n",
      "Enter the amount spent: 20\n",
      "Enter the category: food\n",
      "Enter a description: indomie\n",
      "Do you want to add another expense? (yes/no): yes\n",
      "Enter the amount spent: 30\n",
      "Enter the category: drinks\n",
      "Enter a description: welch\n",
      "Do you want to add another expense? (yes/no): no\n",
      "\n",
      "Total expenses by category:\n",
      "food: GH₵60.20\n",
      "drinks: GH₵30.00\n"
     ]
    }
   ],
   "source": [
    "class Expense:\n",
    "    def __init__(self, amount, category, description):\n",
    "        self.amount = amount\n",
    "        self.category = category\n",
    "        self.description = description\n",
    "\n",
    "class ExpenseTracker:\n",
    "    def __init__(self):\n",
    "        self.expenses = []\n",
    "        self.category_totals = {}\n",
    "\n",
    "    def add_expense(self, amount, category, description):\n",
    "        expense = Expense(amount, category, description)\n",
    "        self.expenses.append(expense)\n",
    "        self.update_category_total(category, amount)\n",
    "\n",
    "    def update_category_total(self, category, amount):\n",
    "        if category in self.category_totals:\n",
    "            self.category_totals[category] += amount\n",
    "        else:\n",
    "            self.category_totals[category] = amount\n",
    "\n",
    "    def get_total_by_category(self, category):\n",
    "        return self.category_totals.get(category, 0)\n",
    "\n",
    "    def get_all_expenses(self):\n",
    "        return self.expenses\n",
    "\n",
    "def main():\n",
    "    tracker = ExpenseTracker()\n",
    "    \n",
    "    while True:\n",
    "        try:\n",
    "            # Input and error handling for the amount\n",
    "            amount = float(input(\"Enter the amount spent: \"))\n",
    "        except ValueError:\n",
    "            print(\"Invalid input! Please enter a valid number for the amount.\")\n",
    "            continue  # Restart the loop if invalid input\n",
    "\n",
    "        category = input(\"Enter the category: \")\n",
    "        description = input(\"Enter a description: \")\n",
    "\n",
    "        tracker.add_expense(amount, category, description)\n",
    "        \n",
    "        more = input(\"Do you want to add another expense? (yes/no): \")\n",
    "        if more != 'yes':\n",
    "            break\n",
    "\n",
    "    # Output the total expenses by category\n",
    "    print(\"\\nTotal expenses by category:\")\n",
    "    for category, total in tracker.category_totals.items():\n",
    "        print(f\"{category}: GH₵{total:.2f}\")\n",
    "\n",
    "if __name__ == \"__main__\":\n",
    "    main()\n"
   ]
  },
  {
   "cell_type": "code",
   "execution_count": null,
   "id": "127dc3c8",
   "metadata": {},
   "outputs": [],
   "source": []
  },
  {
   "cell_type": "code",
   "execution_count": null,
   "id": "2c0a76bc",
   "metadata": {},
   "outputs": [],
   "source": []
  }
 ],
 "metadata": {
  "kernelspec": {
   "display_name": "Python 3 (ipykernel)",
   "language": "python",
   "name": "python3"
  },
  "language_info": {
   "codemirror_mode": {
    "name": "ipython",
    "version": 3
   },
   "file_extension": ".py",
   "mimetype": "text/x-python",
   "name": "python",
   "nbconvert_exporter": "python",
   "pygments_lexer": "ipython3",
   "version": "3.9.7"
  }
 },
 "nbformat": 4,
 "nbformat_minor": 5
}
